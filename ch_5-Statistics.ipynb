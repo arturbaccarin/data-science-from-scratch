{
 "cells": [
  {
   "cell_type": "code",
   "execution_count": 13,
   "metadata": {},
   "outputs": [],
   "source": [
    "# how to describe a data\n",
    "\n",
    "# Statistics are values derived from sample data.\n",
    "# Parameters are values that are either derived from, or applied to, population data.\n",
    "\n",
    "import random\n",
    "import statistics as stc\n",
    "num_friends = [random.randrange(0,300) for _ in range(300)]"
   ]
  },
  {
   "cell_type": "code",
   "execution_count": 7,
   "metadata": {},
   "outputs": [
    {
     "data": {
      "text/plain": [
       "3"
      ]
     },
     "execution_count": 7,
     "metadata": {},
     "output_type": "execute_result"
    }
   ],
   "source": [
    "# simple statistic - number of data points\n",
    "num_points = len(num_friends)\n",
    "\n",
    "# largest and smaller value\n",
    "max(num_friends)\n",
    "min(num_friends)"
   ]
  },
  {
   "cell_type": "code",
   "execution_count": 16,
   "metadata": {},
   "outputs": [
    {
     "data": {
      "text/plain": [
       "[76.5, 152.0, 225.0]"
      ]
     },
     "execution_count": 16,
     "metadata": {},
     "output_type": "execute_result"
    }
   ],
   "source": [
    "# Central Tendencies\n",
    "stc.mean(num_friends) # the mean is very sensitive to outliers in our data.\n",
    "stc.median(num_friends) # the median doesn’t fully depend on every value in your data / we have to sort our data\n",
    "\n",
    "'''\n",
    "quantile, which represents the value\n",
    "under which a certain percentile of the data lies (the median = Q2):\n",
    "'''\n",
    "stc.quantiles(num_friends)\n",
    "\n",
    "#  mode = most common value\n"
   ]
  },
  {
   "cell_type": "code",
   "execution_count": 18,
   "metadata": {},
   "outputs": [
    {
     "data": {
      "text/plain": [
       "87.62356619882704"
      ]
     },
     "execution_count": 18,
     "metadata": {},
     "output_type": "execute_result"
    }
   ],
   "source": [
    "## Dipersion\n",
    "# The range is zero precisely when the max and min are equal\n",
    "import random\n",
    "import statistics as stc\n",
    "num_friends = [random.randrange(0,300) for _ in range(300)]\n",
    "\n",
    "_range = max(num_friends) - min(num_friends)\n",
    "\n",
    "# population variance\n",
    "stc.pvariance(num_friends)\n",
    "# sample variance\n",
    "stc.variance(num_friends)\n",
    "\n",
    "# sample standard deviation\n",
    "stc.stdev(num_friends)"
   ]
  },
  {
   "cell_type": "code",
   "execution_count": 19,
   "metadata": {},
   "outputs": [
    {
     "ename": "AttributeError",
     "evalue": "module 'statistics' has no attribute 'correlation'",
     "output_type": "error",
     "traceback": [
      "\u001b[1;31m---------------------------------------------------------------------------\u001b[0m",
      "\u001b[1;31mAttributeError\u001b[0m                            Traceback (most recent call last)",
      "\u001b[1;32m~\\AppData\\Local\\Temp/ipykernel_3304/714100833.py\u001b[0m in \u001b[0;36m<module>\u001b[1;34m\u001b[0m\n\u001b[0;32m      5\u001b[0m \u001b[1;31m# The correlation is unitless and always lies between –1 (perfect anticorrelation) and 1 (perfect correlation)\u001b[0m\u001b[1;33m\u001b[0m\u001b[1;33m\u001b[0m\u001b[1;33m\u001b[0m\u001b[0m\n\u001b[0;32m      6\u001b[0m \u001b[0mtime_spentin_min\u001b[0m \u001b[1;33m=\u001b[0m \u001b[1;33m[\u001b[0m\u001b[0mrandom\u001b[0m\u001b[1;33m.\u001b[0m\u001b[0mrandrange\u001b[0m\u001b[1;33m(\u001b[0m\u001b[1;36m0\u001b[0m\u001b[1;33m,\u001b[0m\u001b[1;36m60\u001b[0m\u001b[1;33m)\u001b[0m \u001b[1;32mfor\u001b[0m \u001b[0m_\u001b[0m \u001b[1;32min\u001b[0m \u001b[0mrange\u001b[0m\u001b[1;33m(\u001b[0m\u001b[1;36m300\u001b[0m\u001b[1;33m)\u001b[0m\u001b[1;33m]\u001b[0m\u001b[1;33m\u001b[0m\u001b[1;33m\u001b[0m\u001b[0m\n\u001b[1;32m----> 7\u001b[1;33m \u001b[0mstc\u001b[0m\u001b[1;33m.\u001b[0m\u001b[0mcorrelation\u001b[0m\u001b[1;33m(\u001b[0m\u001b[0mnum_friends\u001b[0m\u001b[1;33m,\u001b[0m \u001b[0mtime_spentin_min\u001b[0m\u001b[1;33m)\u001b[0m\u001b[1;33m\u001b[0m\u001b[1;33m\u001b[0m\u001b[0m\n\u001b[0m",
      "\u001b[1;31mAttributeError\u001b[0m: module 'statistics' has no attribute 'correlation'"
     ]
    }
   ],
   "source": [
    "# Correlation\n",
    "# We’d like to investigate the relationship between these two metrics.\n",
    "# a “large” positive covariance means that x tends to be large when y is large and small when y is small. A “large” negative covariance\n",
    "# means the opposite\n",
    "# The correlation is unitless and always lies between –1 (perfect anticorrelation) and 1 (perfect correlation)\n",
    "time_spentin_min = [random.randrange(0,60) for _ in range(300)]\n",
    "stc.correlation(num_friends, time_spentin_min)\n",
    "\n",
    "# A correlation of zero indicates that there is no linear relationship between the two variables. However, there may be other sorts of relationships.\n",
    "# correlation tells you nothing about how large the relationship is."
   ]
  },
  {
   "cell_type": "code",
   "execution_count": null,
   "metadata": {},
   "outputs": [],
   "source": []
  }
 ],
 "metadata": {
  "interpreter": {
   "hash": "2ab17b80835bd42aceaae8d556d02fb29d879a202d0ce638ff15199620f526fe"
  },
  "kernelspec": {
   "display_name": "Python 3.9.5 64-bit",
   "language": "python",
   "name": "python3"
  },
  "language_info": {
   "codemirror_mode": {
    "name": "ipython",
    "version": 3
   },
   "file_extension": ".py",
   "mimetype": "text/x-python",
   "name": "python",
   "nbconvert_exporter": "python",
   "pygments_lexer": "ipython3",
   "version": "3.9.5"
  },
  "orig_nbformat": 4
 },
 "nbformat": 4,
 "nbformat_minor": 2
}
