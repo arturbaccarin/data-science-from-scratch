{
 "cells": [
  {
   "cell_type": "code",
   "execution_count": 13,
   "metadata": {},
   "outputs": [],
   "source": [
    "# how to describe a data\n",
    "\n",
    "# Statistics are values derived from sample data.\n",
    "# Parameters are values that are either derived from, or applied to, population data.\n",
    "\n",
    "import random\n",
    "import statistics as stc\n",
    "num_friends = [random.randrange(0,300) for _ in range(300)]"
   ]
  },
  {
   "cell_type": "code",
   "execution_count": 7,
   "metadata": {},
   "outputs": [
    {
     "data": {
      "text/plain": [
       "3"
      ]
     },
     "execution_count": 7,
     "metadata": {},
     "output_type": "execute_result"
    }
   ],
   "source": [
    "# simple statistic - number of data points\n",
    "num_points = len(num_friends)\n",
    "\n",
    "# largest and smaller value\n",
    "max(num_friends)\n",
    "min(num_friends)"
   ]
  },
  {
   "cell_type": "code",
   "execution_count": 16,
   "metadata": {},
   "outputs": [
    {
     "data": {
      "text/plain": [
       "[76.5, 152.0, 225.0]"
      ]
     },
     "execution_count": 16,
     "metadata": {},
     "output_type": "execute_result"
    }
   ],
   "source": [
    "# Central Tendencies\n",
    "stc.mean(num_friends) # the mean is very sensitive to outliers in our data.\n",
    "stc.median(num_friends) # the median doesn’t fully depend on every value in your data / we have to sort our data\n",
    "\n",
    "'''\n",
    "quantile, which represents the value\n",
    "under which a certain percentile of the data lies (the median = Q2):\n",
    "'''\n",
    "stc.quantiles(num_friends)\n",
    "\n",
    "#  mode = most common value\n"
   ]
  },
  {
   "cell_type": "code",
   "execution_count": null,
   "metadata": {},
   "outputs": [],
   "source": []
  }
 ],
 "metadata": {
  "interpreter": {
   "hash": "2ab17b80835bd42aceaae8d556d02fb29d879a202d0ce638ff15199620f526fe"
  },
  "kernelspec": {
   "display_name": "Python 3.9.5 64-bit",
   "language": "python",
   "name": "python3"
  },
  "language_info": {
   "codemirror_mode": {
    "name": "ipython",
    "version": 3
   },
   "file_extension": ".py",
   "mimetype": "text/x-python",
   "name": "python",
   "nbconvert_exporter": "python",
   "pygments_lexer": "ipython3",
   "version": "3.9.5"
  },
  "orig_nbformat": 4
 },
 "nbformat": 4,
 "nbformat_minor": 2
}
