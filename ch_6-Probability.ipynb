{
 "cells": [
  {
   "cell_type": "code",
   "execution_count": 13,
   "metadata": {},
   "outputs": [],
   "source": [
    "'''\n",
    "Probability: a way of quantifying the uncertainty associated with events chosen from some universe of events.\n",
    "The universe consists of all possible outcomes. And any subset of these outcomes is an event.\n",
    "\n",
    "P(E) -> probability of the event E\n",
    "\n",
    "Dependent and Independent\n",
    "Ind.: P(E, F) = P(E)P(F)\n",
    "'''"
   ]
  }
 ],
 "metadata": {
  "interpreter": {
   "hash": "2ab17b80835bd42aceaae8d556d02fb29d879a202d0ce638ff15199620f526fe"
  },
  "kernelspec": {
   "display_name": "Python 3.9.5 64-bit",
   "language": "python",
   "name": "python3"
  },
  "language_info": {
   "codemirror_mode": {
    "name": "ipython",
    "version": 3
   },
   "file_extension": ".py",
   "mimetype": "text/x-python",
   "name": "python",
   "nbconvert_exporter": "python",
   "pygments_lexer": "ipython3",
   "version": "3.9.5"
  },
  "orig_nbformat": 4
 },
 "nbformat": 4,
 "nbformat_minor": 2
}
